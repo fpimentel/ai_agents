{
 "cells": [
  {
   "cell_type": "markdown",
   "id": "ec95313a",
   "metadata": {},
   "source": [
    "## Graded Lab: Reflection in a Research Agent\n",
    "\n",
    "In this graded lab, you’ll implement a simple **agentic workflow** designed to simulate reflective thinking in a writing task. This is one building block of a more complex research agent that will be constructed throughout the course.\n",
    "\n",
    "### Objective\n",
    "\n",
    "Build a three-step workflow where an LLM writes an essay draft, critiques it, and rewrites it. \n",
    "\n",
    "* **Step 1 – Drafting:** Call the LLM to generate an initial draft of an essay based on a simple prompt.\n",
    "* **Step 2 – Reflection:** Reflect on the draft using a reasoning step. (Optionally, this can be done with a different model.)\n",
    "* **Step 3 – Revision:** Apply the feedback from the reflection to generate a revised version of the essay.\n"
   ]
  },
  {
   "cell_type": "markdown",
   "id": "4a473390",
   "metadata": {},
   "source": [
    "---\n",
    "<a name='submission'></a>\n",
    "\n",
    "<h4 style=\"color:green; font-weight:bold;\">TIPS FOR SUCCESSFUL GRADING OF YOUR ASSIGNMENT:</h4>\n",
    "\n",
    "* All cells are frozen except for the ones where you need to write your solution code or when explicitly mentioned you can interact with it.\n",
    "\n",
    "* In each exercise cell, look for comments `### START CODE HERE ###` and `### END CODE HERE ###`. These show you where to write the solution code. **Do not add or change any code that is outside these comments**.\n",
    "\n",
    "* You can add new cells to experiment but these will be omitted by the grader, so don't rely on newly created cells to host your solution code, use the provided places for this.\n",
    "\n",
    "* Avoid using global variables unless you absolutely have to. The grader tests your code in an isolated environment without running all cells from the top. As a result, global variables may be unavailable when scoring your submission. Global variables that are meant to be used will be defined in UPPERCASE.\n",
    "\n",
    "* To submit your notebook for grading, first save it by clicking the 💾 icon on the top left of the page and then click on the <span style=\"background-color: red; color: white; padding: 3px 5px; font-size: 16px; border-radius: 5px;\">Submit assignment</span> button on the top right of the page.\n",
    "---"
   ]
  },
  {
   "cell_type": "markdown",
   "id": "19131dc4",
   "metadata": {},
   "source": [
    "Before interacting with the language models, we initialize the `aisuite` client. This setup loads environment variables (e.g., API keys) from a `.env` file to securely authenticate with backend services. The `ai.Client()` instance will be used to make all model calls throughout this workflow."
   ]
  },
  {
   "cell_type": "code",
   "execution_count": 2,
   "id": "9ccd6eeb",
   "metadata": {
    "deletable": false,
    "editable": false,
    "height": 148,
    "tags": [
     "graded"
    ]
   },
   "outputs": [],
   "source": [
    "from dotenv import load_dotenv\n",
    "\n",
    "load_dotenv()\n",
    "\n",
    "import aisuite as ai\n",
    "\n",
    "# Define the client. You can use this variable inside your graded functions!\n",
    "CLIENT = ai.Client()"
   ]
  },
  {
   "cell_type": "code",
   "execution_count": 3,
   "id": "88ef4447",
   "metadata": {
    "deletable": false,
    "editable": false,
    "height": 29
   },
   "outputs": [],
   "source": [
    "import unittests"
   ]
  },
  {
   "cell_type": "markdown",
   "id": "cb1d6e33",
   "metadata": {},
   "source": [
    "## Exercise 1: `generate_draft` Function\n",
    "\n",
    "**Objective**:\n",
    "Write a function called `generate_draft` that takes in a string topic and uses a language model to generate a complete draft essay.\n",
    "\n",
    "**Inputs**:\n",
    "\n",
    "* `topic` (str): The essay topic.\n",
    "* `model` (str, optional): The model identifier to use. Defaults to `\"openai:gpt-4o\"`.\n",
    "\n",
    "**Output**:\n",
    "\n",
    "* A string representing the full draft of the essay.\n",
    "\n",
    "The setup for calling the LLM using the aisuite library is already provided. Focus on crafting the prompt content. You can reference this setup in later exercises to understand how to interact with the library effectively.\n"
   ]
  },
  {
   "cell_type": "code",
   "execution_count": 4,
   "id": "dbe325d5",
   "metadata": {
    "deletable": false,
    "height": 488,
    "tags": [
     "graded"
    ]
   },
   "outputs": [],
   "source": [
    "# GRADED FUNCTION: generate_draft\n",
    "\n",
    "def generate_draft(topic: str, model: str = \"openai:gpt-4o\") -> str: \n",
    "    \n",
    "    ### START CODE HERE ###\n",
    "\n",
    "    # Define your prompt here. A multi-line f-string is typically used for this.\n",
    "    prompt = f\"\"\"You are an expert essay writer. Generate a complete draft essay on the following topic: \"{topic}\".\n",
    "\n",
    "Requirements:\n",
    "- Structure: Include a clear introduction with a thesis statement, 3-5 well-developed body paragraphs with supporting arguments and evidence, and a strong conclusion that summarizes key points and offers final thoughts.\n",
    "- Length: Aim for 600-800 words to make it substantial but concise.\n",
    "- Style: Use formal, academic language that's engaging and persuasive. Incorporate transitions for smooth flow.\n",
    "- Content: Base arguments on logical reasoning, historical or current examples, and relevant facts. Ensure originality and avoid plagiarism.\n",
    "- Formatting: Use markdown for structure (e.g., # for headings, **bold** for emphasis, bullet points if needed for lists).\n",
    "\n",
    "Output only the essay itself, starting directly with the title.\"\"\"\n",
    "\n",
    "    ### END CODE HERE ###\n",
    "    \n",
    "    # Get a response from the LLM by creating a chat with the client.\n",
    "    response = CLIENT.chat.completions.create(\n",
    "        model=model,\n",
    "        messages=[{\"role\": \"user\", \"content\": prompt}],\n",
    "        temperature=1.0,\n",
    "    )\n",
    "\n",
    "    return response.choices[0].message.content"
   ]
  },
  {
   "cell_type": "markdown",
   "id": "2b989100",
   "metadata": {},
   "source": [
    "Run the following cell to check your code is working correctly:"
   ]
  },
  {
   "cell_type": "code",
   "execution_count": 5,
   "id": "85ee72c5",
   "metadata": {
    "deletable": false,
    "editable": false,
    "height": 46
   },
   "outputs": [
    {
     "name": "stdout",
     "output_type": "stream",
     "text": [
      "\u001b[92m All tests passed!\n"
     ]
    }
   ],
   "source": [
    "# Test your code!\n",
    "unittests.test_generate_draft(generate_draft)"
   ]
  },
  {
   "cell_type": "markdown",
   "id": "136a95db",
   "metadata": {},
   "source": [
    "## Exercise 2: `reflect_on_draft` Function\n",
    "\n",
    "**Objective**:\n",
    "Write a function called `reflect_on_draft` that takes a previously generated essay draft and uses a language model to provide constructive feedback.\n",
    "\n",
    "**Inputs**:\n",
    "\n",
    "* `draft` (str): The essay text to reflect on.\n",
    "* `model` (str, optional): The model identifier to use. Defaults to `\"openai:o4-mini\"`.\n",
    "\n",
    "**Output**:\n",
    "\n",
    "* A string with feedback in paragraph form.\n",
    "\n",
    "**Requirements**:\n",
    "\n",
    "* The feedback should be critical but constructive.\n",
    "* It should address issues such as structure, clarity, strength of argument, and writing style.\n",
    "* The function should send the draft to the model and return its response.\n",
    "\n",
    "You do **not** need to rewrite the essay at this step—just analyze and reflect on it.\n"
   ]
  },
  {
   "cell_type": "code",
   "execution_count": 8,
   "id": "4cc1a1cf",
   "metadata": {
    "deletable": false,
    "height": 522,
    "tags": [
     "graded"
    ]
   },
   "outputs": [],
   "source": [
    "# GRADED FUNCTION: reflect_on_draft\n",
    "\n",
    "def reflect_on_draft(draft: str, model: str = \"openai:o4-mini\") -> str:\n",
    "\n",
    "    ### START CODE HERE ###\n",
    "\n",
    "    # Define your prompt here. A multi-line f-string is typically used for this.\n",
    "    prompt = f\"\"\"You are an expert essay reviewer with years of experience in academic writing. Review the following essay draft and provide constructive feedback in the form of 3-5 coherent paragraphs.\n",
    "\n",
    "Essay Draft:\n",
    "{draft}\n",
    "\n",
    "Focus your feedback on:\n",
    "- Structure: Evaluate the organization, including introduction, body paragraphs, conclusion, thesis statement, and transitions.\n",
    "- Clarity: Assess how clear and concise the writing is, noting any confusing sections or ambiguous language.\n",
    "- Strength of Argument: Analyze the logic, evidence, and persuasiveness of the main points, suggesting ways to strengthen weak areas.\n",
    "- Writing Style: Comment on tone, formality, engagement, grammar, and overall flow.\n",
    "\n",
    "Be critical yet constructive—highlight strengths briefly but emphasize actionable improvements. Output only the feedback paragraphs, without any additional commentary or headings.\"\"\"\n",
    "\n",
    "    ### END CODE HERE ###\n",
    "\n",
    "    # Get a response from the LLM by creating a chat with the client.\n",
    "    response = CLIENT.chat.completions.create(\n",
    "        model=model,\n",
    "        messages=[{\"role\": \"user\", \"content\": prompt}],\n",
    "        temperature=1.0,\n",
    "    )\n",
    "\n",
    "    return response.choices[0].message.content"
   ]
  },
  {
   "cell_type": "code",
   "execution_count": 9,
   "id": "001ce37a",
   "metadata": {
    "deletable": false,
    "editable": false,
    "height": 46
   },
   "outputs": [
    {
     "name": "stdout",
     "output_type": "stream",
     "text": [
      "\u001b[92m All tests passed!\n"
     ]
    }
   ],
   "source": [
    "# Test your code!\n",
    "unittests.test_reflect_on_draft(reflect_on_draft)"
   ]
  },
  {
   "cell_type": "markdown",
   "id": "e99bba56",
   "metadata": {},
   "source": [
    "## Exercise 3: `revise_draft` Function\n",
    "\n",
    "**Objective**:\n",
    "Implement a function called `revise_draft` that improves a given essay draft based on feedback from a reflection step.\n",
    "\n",
    "**Inputs**:\n",
    "\n",
    "* `original_draft` (str): The initial version of the essay.\n",
    "* `reflection` (str): Constructive feedback or critique on the draft.\n",
    "* `model` (str, optional): The model identifier to use. Defaults to `\"openai:gpt-4o\"`.\n",
    "\n",
    "**Output**:\n",
    "\n",
    "* A string containing the revised and improved essay.\n",
    "\n",
    "**Requirements**:\n",
    "\n",
    "* The revised draft should address the issues mentioned in the feedback.\n",
    "* It should improve clarity, coherence, argument strength, and overall flow.\n",
    "* The function should use the feedback to guide the revision, and return only the final revised essay.\n",
    "\n",
    "In this final exercise, you'll also need to manage the call to the LLM using the CLIENT, as you've practiced in previous exercises."
   ]
  },
  {
   "cell_type": "code",
   "execution_count": 10,
   "id": "f91595e9",
   "metadata": {
    "deletable": false,
    "height": 505,
    "tags": [
     "graded"
    ]
   },
   "outputs": [],
   "source": [
    "# GRADED FUNCTION: revise_draft\n",
    "\n",
    "def revise_draft(original_draft: str, reflection: str, model: str = \"openai:gpt-4o\") -> str:\n",
    "\n",
    "    ### START CODE HERE ###\n",
    "\n",
    "    # Define your prompt here. A multi-line f-string is typically used for this.\n",
    "    prompt = f\"\"\"You are an expert essay reviser with extensive experience in academic writing. You have the following original essay draft and constructive feedback on it.\n",
    "\n",
    "Original Draft:\n",
    "{original_draft}\n",
    "\n",
    "Feedback:\n",
    "{reflection}\n",
    "\n",
    "Revise the essay to directly address the issues raised in the feedback. Make targeted improvements to enhance structure, clarity, strength of arguments, writing style, and overall coherence. Maintain the original topic and length (approximately 600-800 words), while ensuring the revised version is more engaging, persuasive, and polished. Use formal, academic language with smooth transitions.\n",
    "\n",
    "Output only the revised essay, starting directly with the title. Use markdown for structure if needed (e.g., # for headings).\"\"\" \n",
    "\n",
    "    # Get a response from the LLM by creating a chat with the client.\n",
    "    response = CLIENT.chat.completions.create(\n",
    "        model=model,\n",
    "        messages=[{\"role\": \"user\", \"content\": prompt}],\n",
    "        temperature=1.0,\n",
    "    )\n",
    "\n",
    "    ### END CODE HERE ###\n",
    "\n",
    "    return response.choices[0].message.content"
   ]
  },
  {
   "cell_type": "code",
   "execution_count": 11,
   "id": "318c3d55",
   "metadata": {
    "deletable": false,
    "editable": false,
    "height": 46
   },
   "outputs": [
    {
     "name": "stdout",
     "output_type": "stream",
     "text": [
      "\u001b[92m All tests passed!\n"
     ]
    }
   ],
   "source": [
    "# Test your code!\n",
    "unittests.test_revise_draft(revise_draft)"
   ]
  },
  {
   "cell_type": "markdown",
   "id": "c8a10d4c",
   "metadata": {},
   "source": [
    "### 🧪 Test the Reflective Writing Workflow\n",
    "\n",
    "Use the functions you implemented to simulate the complete writing workflow:\n",
    "\n",
    "1. **Generate a draft** in response to the essay prompt.\n",
    "2. **Reflect** on the draft to identify improvements.\n",
    "3. **Revise** the draft using the feedback.\n",
    "\n",
    "Observe the outputs of each step. You do **not** need to modify the outputs — just verify that the workflow runs as expected and each component returns a valid string.\n"
   ]
  },
  {
   "cell_type": "code",
   "execution_count": 12,
   "id": "203c734a",
   "metadata": {
    "deletable": false,
    "editable": false,
    "height": 284
   },
   "outputs": [
    {
     "name": "stdout",
     "output_type": "stream",
     "text": [
      "📝 Draft:\n",
      "\n",
      "# Should Social Media Platforms Be Regulated by the Government?\n",
      "\n",
      "The rapid growth of social media platforms has significantly transformed how people communicate, share information, and form communities. While these platforms offer numerous benefits, such as fostering global connections and democratizing access to information, they also pose significant challenges. Issues like misinformation, privacy breaches, and their impact on mental health have led to debates on whether these platforms should be subject to government regulation. This essay argues that social media platforms should indeed be regulated by the government to protect users' rights, maintain public safety, and ensure accountability.\n",
      "\n",
      "**The Necessity for Regulation: Protecting Users' Rights**\n",
      "\n",
      "One of the primary reasons government regulation is needed for social media platforms is to protect users' rights, particularly concerning privacy and data security. Social media companies collect vast amounts of personal data, which can be misused or inadequately protected. The Cambridge Analytica scandal, where Facebook data was used to influence political campaigns, highlights the risks of unregulated data practices. Government regulation could ensure that social media companies implement stringent data protection measures, giving users greater control over their information. Additionally, implementing standards for transparency in how data is collected and used would hold these companies accountable, thereby strengthening user trust.\n",
      "\n",
      "**Public Safety Concerns: Combating Harmful Content**\n",
      "\n",
      "Another compelling argument for the regulation of social media is the urgency to address public safety issues related to harmful content. The circulation of disinformation, hate speech, and extremist content on these platforms can have dire consequences, including inciting violence and undermining democracy. For instance, the role of social media in spreading false information during election periods or public health crises, like the COVID-19 pandemic, demonstrates the potential harm of unchecked platforms. Regulatory measures could establish clear guidelines for content moderation, ensuring harmful content is identified and removed promptly. Such regulations should also mandate transparency in moderation processes to avoid biases and protect freedom of expression.\n",
      "\n",
      "**Ensuring Accountability: The Role of Government Oversight**\n",
      "\n",
      "Government regulation is also essential in ensuring social media companies are accountable for their practices and policies. Currently, these companies operate largely on a self-regulatory model, making decisions that impact millions without adequate oversight. This lack of accountability can lead to practices that prioritize profit over public welfare, such as algorithms that amplify sensational or divisive content to increase user engagement. By instituting regulatory frameworks, governments could set enforceable standards for operational practices and performance metrics, ensuring companies act in the public's best interest. \n",
      "\n",
      "**Challenges and Considerations in Implementing Regulation**\n",
      "\n",
      "Despite the clear need for regulation, it is crucial to address potential challenges in its implementation. Critics often argue that excessive regulation could stifle innovation and infringe upon freedom of speech. It is vital to strike a balance that respects these concerns while safeguarding public interests. Regulatory bodies should work closely with industry stakeholders, including tech companies, academic experts, and civil society organizations, to develop flexible, adaptive regulations that can evolve with technological advancements. Furthermore, international cooperation is essential, considering the global nature of social media platforms, to ensure consistent standards and effective enforcement.\n",
      "\n",
      "**Conclusion: Striking a Balance for a Safer Digital Future**\n",
      "\n",
      "In conclusion, the regulation of social media platforms by the government is a necessary step in addressing the multifaceted challenges these platforms present. Protecting users' rights, ensuring public safety, and holding companies accountable are critical objectives that can be achieved through thoughtful regulation. While challenges in implementation exist, they can be addressed through collaborative efforts and adaptive policies. Ultimately, government regulation can help create a safer, more equitable digital environment that preserves the benefits of social media while mitigating its risks. As society becomes increasingly reliant on digital communication, ensuring these platforms operate responsibly is paramount.\n",
      "\n",
      "🧠 Feedback:\n",
      "\n",
      "The essay’s overall organization is sound, featuring a clear introduction, distinct body paragraphs, and a concise conclusion. The introduction effectively sets up the debate and presents the thesis, but it could be strengthened by explicitly previewing the main points—user privacy, public safety, and corporate accountability—so that readers know the essay’s roadmap from the outset. Transitions between paragraphs are generally smooth, though the shift from the discussion of accountability to implementation challenges feels abrupt; a brief sentence bridging why an accountability framework naturally leads to questions of enforcement would improve cohesion. The conclusion recaps key ideas well but might benefit from a more compelling final thought or call to action to leave a lasting impression.\n",
      "\n",
      "The writing is largely clear and concise, though a few sentences become wordy or rely on jargon that might confuse some readers. For instance, phrases such as “enforceable standards for operational practices and performance metrics” could be simplified to “clear, enforceable standards for how platforms operate.” In the paragraph on combating harmful content, consider tightening sentences by eliminating redundant qualifiers—for example, change “dire consequences, including inciting violence and undermining democracy” to “consequences that incite violence and erode democratic norms.” A quick read-through to identify similar redundancies will make the prose more direct and engaging.\n",
      "\n",
      "The essay makes a persuasive case for government regulation, with strong examples like Cambridge Analytica and COVID-19 misinformation. To deepen the argument, however, you might incorporate more varied evidence—perhaps citing scholarly studies on the mental health impacts of social media or referencing specific regulatory models already in practice (e.g., the EU’s GDPR). When addressing counterarguments, the essay mentions concerns about stifling innovation and free speech, but it stops short of fully rebutting them. A brief discussion of how targeted, narrow regulations can protect speech while curbing harm would demonstrate a balanced and nuanced perspective, thus strengthening your credibility.\n",
      "\n",
      "Your formal tone is appropriate for an academic essay, and the flow between sentences is generally smooth. Yet in a few spots, passive constructions dull the writing—“Regulatory measures could be established” could become “Governments could establish regulatory measures.” Active voice will make arguments feel more immediate and authoritative. Lastly, consider varying sentence length to maintain reader engagement: shorter, punchier sentences interspersed with longer, detailed ones can enhance rhythm and keep the essay from sounding monotone. Addressing these stylistic adjustments will elevate both the persuasiveness and readability of your draft.\n",
      "\n",
      "✍️ Revised:\n",
      "\n",
      "# Should Social Media Platforms Be Regulated by the Government?\n",
      "\n",
      "The rapid growth of social media platforms has significantly transformed how people communicate, share information, and form communities. While these platforms offer numerous benefits, such as fostering global connections and democratizing access to information, they also pose significant challenges. Issues like misinformation, privacy breaches, and their impact on mental health have led to debates on whether these platforms should be subject to government regulation. This essay argues that social media platforms should be regulated by the government to protect users' rights, maintain public safety, and ensure corporate accountability.\n",
      "\n",
      "**The Necessity for Regulation: Protecting Users' Privacy**\n",
      "\n",
      "Government regulation is crucial to safeguarding users' rights, particularly concerning privacy and data security. Social media companies collect vast amounts of personal data, often leading to misuse or inadequate protection. The Cambridge Analytica scandal, where Facebook data was manipulated to influence political campaigns, illustrates the dangers of unregulated data practices. By introducing stringent data protection laws, governments can enforce transparency and give users more control over their information. Such regulations would require companies to clearly disclose how data is collected and used, fostering user trust and accountability.\n",
      "\n",
      "**Public Safety Concerns: Combating Harmful Content**\n",
      "\n",
      "Regulating social media is also vital for addressing public safety by combating harmful content. The unchecked circulation of disinformation, hate speech, and extremist content can incite violence and erode democratic norms. During election periods and public health crises like the COVID-19 pandemic, the role of social media in spreading false information has been particularly damaging. Governments could establish clear guidelines for content moderation, ensuring swift identification and removal of harmful content. These regulations should mandate transparency in moderation processes to avoid biases and uphold freedom of expression.\n",
      "\n",
      "**Ensuring Accountability: The Role of Government Oversight**\n",
      "\n",
      "Social media companies currently operate with minimal oversight, prioritizing profit over public welfare. This lack of accountability can lead to practices that amplify sensational or divisive content to increase user engagement. Establishing clear, enforceable standards for how these platforms operate ensures they act in the public's best interest. For instance, governments could set performance metrics and standards for transparency in algorithms, holding companies responsible for their societal impact. Addressing accountability leads naturally to questions of enforceability, highlighting the need for effective regulatory frameworks.\n",
      "\n",
      "**Challenges and Considerations in Implementing Regulation**\n",
      "\n",
      "Despite the clear need for regulation, challenges in implementation must be addressed. Critics contend that excessive regulation might stifle innovation and inhibit free speech. Thus, it is essential to balance respecting these concerns with safeguarding public interests. Regulatory bodies should collaborate with industry stakeholders, academic experts, and civil society organizations to develop flexible, adaptive regulations that evolve with technology. Furthermore, international cooperation is crucial given the global nature of social media platforms, ensuring consistent standards and effective enforcement.\n",
      "\n",
      "**Conclusion: Striking a Balance for a Safer Digital Future**\n",
      "\n",
      "In conclusion, the regulation of social media platforms by the government is a necessary step to address the multifaceted challenges these platforms present. Protecting users' privacy, ensuring public safety, and holding companies accountable are critical objectives achievable through thoughtful regulation. While implementation challenges exist, they can be overcome through collaborative efforts and adaptive policies. Targeted and narrow regulations can protect freedom of speech while curbing harmful effects, creating a safer, more equitable digital environment. As digital communication becomes increasingly central to societal operations, ensuring responsible platform management is imperative for a secure digital future.\n"
     ]
    }
   ],
   "source": [
    "essay_prompt = \"Should social media platforms be regulated by the government?\"\n",
    "\n",
    "# Agent 1 – Draft\n",
    "draft = generate_draft(essay_prompt)\n",
    "print(\"📝 Draft:\\n\")\n",
    "print(draft)\n",
    "\n",
    "# Agent 2 – Reflection\n",
    "feedback = reflect_on_draft(draft)\n",
    "print(\"\\n🧠 Feedback:\\n\")\n",
    "print(feedback)\n",
    "\n",
    "# Agent 3 – Revision\n",
    "revised = revise_draft(draft, feedback)\n",
    "print(\"\\n✍️ Revised:\\n\")\n",
    "print(revised)"
   ]
  },
  {
   "cell_type": "markdown",
   "id": "7e3eb897",
   "metadata": {},
   "source": [
    "To better visualize the output of each step in the reflective writing workflow, we use a utility function called `show_output`. This function displays the results of each stage (drafting, reflection, and revision) in styled boxes with custom background and text colors, making it easier to compare and understand the progression of the essay.\n"
   ]
  },
  {
   "cell_type": "code",
   "execution_count": 13,
   "id": "50667ba3",
   "metadata": {
    "deletable": false,
    "editable": false,
    "height": 131
   },
   "outputs": [
    {
     "data": {
      "text/html": [
       "\n",
       "    <div style=\"\n",
       "        border: 1px solid #ccc;\n",
       "        border-radius: 10px;\n",
       "        padding: 15px;\n",
       "        margin-bottom: 15px;\n",
       "        background-color: #fff8dc;\n",
       "        color: #333333;\n",
       "    \">\n",
       "        <h3 style=\"margin-top: 0;\">Step 1 – Draft</h3>\n",
       "        <pre style=\"\n",
       "            white-space: pre-wrap;\n",
       "            font-family: monospace;\n",
       "            font-size: 14px;\n",
       "        \"># Should Social Media Platforms Be Regulated by the Government?\n",
       "\n",
       "The rapid growth of social media platforms has significantly transformed how people communicate, share information, and form communities. While these platforms offer numerous benefits, such as fostering global connections and democratizing access to information, they also pose significant challenges. Issues like misinformation, privacy breaches, and their impact on mental health have led to debates on whether these platforms should be subject to government regulation. This essay argues that social media platforms should indeed be regulated by the government to protect users' rights, maintain public safety, and ensure accountability.\n",
       "\n",
       "**The Necessity for Regulation: Protecting Users' Rights**\n",
       "\n",
       "One of the primary reasons government regulation is needed for social media platforms is to protect users' rights, particularly concerning privacy and data security. Social media companies collect vast amounts of personal data, which can be misused or inadequately protected. The Cambridge Analytica scandal, where Facebook data was used to influence political campaigns, highlights the risks of unregulated data practices. Government regulation could ensure that social media companies implement stringent data protection measures, giving users greater control over their information. Additionally, implementing standards for transparency in how data is collected and used would hold these companies accountable, thereby strengthening user trust.\n",
       "\n",
       "**Public Safety Concerns: Combating Harmful Content**\n",
       "\n",
       "Another compelling argument for the regulation of social media is the urgency to address public safety issues related to harmful content. The circulation of disinformation, hate speech, and extremist content on these platforms can have dire consequences, including inciting violence and undermining democracy. For instance, the role of social media in spreading false information during election periods or public health crises, like the COVID-19 pandemic, demonstrates the potential harm of unchecked platforms. Regulatory measures could establish clear guidelines for content moderation, ensuring harmful content is identified and removed promptly. Such regulations should also mandate transparency in moderation processes to avoid biases and protect freedom of expression.\n",
       "\n",
       "**Ensuring Accountability: The Role of Government Oversight**\n",
       "\n",
       "Government regulation is also essential in ensuring social media companies are accountable for their practices and policies. Currently, these companies operate largely on a self-regulatory model, making decisions that impact millions without adequate oversight. This lack of accountability can lead to practices that prioritize profit over public welfare, such as algorithms that amplify sensational or divisive content to increase user engagement. By instituting regulatory frameworks, governments could set enforceable standards for operational practices and performance metrics, ensuring companies act in the public's best interest. \n",
       "\n",
       "**Challenges and Considerations in Implementing Regulation**\n",
       "\n",
       "Despite the clear need for regulation, it is crucial to address potential challenges in its implementation. Critics often argue that excessive regulation could stifle innovation and infringe upon freedom of speech. It is vital to strike a balance that respects these concerns while safeguarding public interests. Regulatory bodies should work closely with industry stakeholders, including tech companies, academic experts, and civil society organizations, to develop flexible, adaptive regulations that can evolve with technological advancements. Furthermore, international cooperation is essential, considering the global nature of social media platforms, to ensure consistent standards and effective enforcement.\n",
       "\n",
       "**Conclusion: Striking a Balance for a Safer Digital Future**\n",
       "\n",
       "In conclusion, the regulation of social media platforms by the government is a necessary step in addressing the multifaceted challenges these platforms present. Protecting users' rights, ensuring public safety, and holding companies accountable are critical objectives that can be achieved through thoughtful regulation. While challenges in implementation exist, they can be addressed through collaborative efforts and adaptive policies. Ultimately, government regulation can help create a safer, more equitable digital environment that preserves the benefits of social media while mitigating its risks. As society becomes increasingly reliant on digital communication, ensuring these platforms operate responsibly is paramount.</pre>\n",
       "    </div>\n",
       "    "
      ],
      "text/plain": [
       "<IPython.core.display.HTML object>"
      ]
     },
     "metadata": {},
     "output_type": "display_data"
    },
    {
     "data": {
      "text/html": [
       "\n",
       "    <div style=\"\n",
       "        border: 1px solid #ccc;\n",
       "        border-radius: 10px;\n",
       "        padding: 15px;\n",
       "        margin-bottom: 15px;\n",
       "        background-color: #e0f7fa;\n",
       "        color: #222222;\n",
       "    \">\n",
       "        <h3 style=\"margin-top: 0;\">Step 2 – Reflection</h3>\n",
       "        <pre style=\"\n",
       "            white-space: pre-wrap;\n",
       "            font-family: monospace;\n",
       "            font-size: 14px;\n",
       "        \">The essay’s overall organization is sound, featuring a clear introduction, distinct body paragraphs, and a concise conclusion. The introduction effectively sets up the debate and presents the thesis, but it could be strengthened by explicitly previewing the main points—user privacy, public safety, and corporate accountability—so that readers know the essay’s roadmap from the outset. Transitions between paragraphs are generally smooth, though the shift from the discussion of accountability to implementation challenges feels abrupt; a brief sentence bridging why an accountability framework naturally leads to questions of enforcement would improve cohesion. The conclusion recaps key ideas well but might benefit from a more compelling final thought or call to action to leave a lasting impression.\n",
       "\n",
       "The writing is largely clear and concise, though a few sentences become wordy or rely on jargon that might confuse some readers. For instance, phrases such as “enforceable standards for operational practices and performance metrics” could be simplified to “clear, enforceable standards for how platforms operate.” In the paragraph on combating harmful content, consider tightening sentences by eliminating redundant qualifiers—for example, change “dire consequences, including inciting violence and undermining democracy” to “consequences that incite violence and erode democratic norms.” A quick read-through to identify similar redundancies will make the prose more direct and engaging.\n",
       "\n",
       "The essay makes a persuasive case for government regulation, with strong examples like Cambridge Analytica and COVID-19 misinformation. To deepen the argument, however, you might incorporate more varied evidence—perhaps citing scholarly studies on the mental health impacts of social media or referencing specific regulatory models already in practice (e.g., the EU’s GDPR). When addressing counterarguments, the essay mentions concerns about stifling innovation and free speech, but it stops short of fully rebutting them. A brief discussion of how targeted, narrow regulations can protect speech while curbing harm would demonstrate a balanced and nuanced perspective, thus strengthening your credibility.\n",
       "\n",
       "Your formal tone is appropriate for an academic essay, and the flow between sentences is generally smooth. Yet in a few spots, passive constructions dull the writing—“Regulatory measures could be established” could become “Governments could establish regulatory measures.” Active voice will make arguments feel more immediate and authoritative. Lastly, consider varying sentence length to maintain reader engagement: shorter, punchier sentences interspersed with longer, detailed ones can enhance rhythm and keep the essay from sounding monotone. Addressing these stylistic adjustments will elevate both the persuasiveness and readability of your draft.</pre>\n",
       "    </div>\n",
       "    "
      ],
      "text/plain": [
       "<IPython.core.display.HTML object>"
      ]
     },
     "metadata": {},
     "output_type": "display_data"
    },
    {
     "data": {
      "text/html": [
       "\n",
       "    <div style=\"\n",
       "        border: 1px solid #ccc;\n",
       "        border-radius: 10px;\n",
       "        padding: 15px;\n",
       "        margin-bottom: 15px;\n",
       "        background-color: #f3e5f5;\n",
       "        color: #222222;\n",
       "    \">\n",
       "        <h3 style=\"margin-top: 0;\">Step 3 – Revision</h3>\n",
       "        <pre style=\"\n",
       "            white-space: pre-wrap;\n",
       "            font-family: monospace;\n",
       "            font-size: 14px;\n",
       "        \"># Should Social Media Platforms Be Regulated by the Government?\n",
       "\n",
       "The rapid growth of social media platforms has significantly transformed how people communicate, share information, and form communities. While these platforms offer numerous benefits, such as fostering global connections and democratizing access to information, they also pose significant challenges. Issues like misinformation, privacy breaches, and their impact on mental health have led to debates on whether these platforms should be subject to government regulation. This essay argues that social media platforms should be regulated by the government to protect users' rights, maintain public safety, and ensure corporate accountability.\n",
       "\n",
       "**The Necessity for Regulation: Protecting Users' Privacy**\n",
       "\n",
       "Government regulation is crucial to safeguarding users' rights, particularly concerning privacy and data security. Social media companies collect vast amounts of personal data, often leading to misuse or inadequate protection. The Cambridge Analytica scandal, where Facebook data was manipulated to influence political campaigns, illustrates the dangers of unregulated data practices. By introducing stringent data protection laws, governments can enforce transparency and give users more control over their information. Such regulations would require companies to clearly disclose how data is collected and used, fostering user trust and accountability.\n",
       "\n",
       "**Public Safety Concerns: Combating Harmful Content**\n",
       "\n",
       "Regulating social media is also vital for addressing public safety by combating harmful content. The unchecked circulation of disinformation, hate speech, and extremist content can incite violence and erode democratic norms. During election periods and public health crises like the COVID-19 pandemic, the role of social media in spreading false information has been particularly damaging. Governments could establish clear guidelines for content moderation, ensuring swift identification and removal of harmful content. These regulations should mandate transparency in moderation processes to avoid biases and uphold freedom of expression.\n",
       "\n",
       "**Ensuring Accountability: The Role of Government Oversight**\n",
       "\n",
       "Social media companies currently operate with minimal oversight, prioritizing profit over public welfare. This lack of accountability can lead to practices that amplify sensational or divisive content to increase user engagement. Establishing clear, enforceable standards for how these platforms operate ensures they act in the public's best interest. For instance, governments could set performance metrics and standards for transparency in algorithms, holding companies responsible for their societal impact. Addressing accountability leads naturally to questions of enforceability, highlighting the need for effective regulatory frameworks.\n",
       "\n",
       "**Challenges and Considerations in Implementing Regulation**\n",
       "\n",
       "Despite the clear need for regulation, challenges in implementation must be addressed. Critics contend that excessive regulation might stifle innovation and inhibit free speech. Thus, it is essential to balance respecting these concerns with safeguarding public interests. Regulatory bodies should collaborate with industry stakeholders, academic experts, and civil society organizations to develop flexible, adaptive regulations that evolve with technology. Furthermore, international cooperation is crucial given the global nature of social media platforms, ensuring consistent standards and effective enforcement.\n",
       "\n",
       "**Conclusion: Striking a Balance for a Safer Digital Future**\n",
       "\n",
       "In conclusion, the regulation of social media platforms by the government is a necessary step to address the multifaceted challenges these platforms present. Protecting users' privacy, ensuring public safety, and holding companies accountable are critical objectives achievable through thoughtful regulation. While implementation challenges exist, they can be overcome through collaborative efforts and adaptive policies. Targeted and narrow regulations can protect freedom of speech while curbing harmful effects, creating a safer, more equitable digital environment. As digital communication becomes increasingly central to societal operations, ensuring responsible platform management is imperative for a secure digital future.</pre>\n",
       "    </div>\n",
       "    "
      ],
      "text/plain": [
       "<IPython.core.display.HTML object>"
      ]
     },
     "metadata": {},
     "output_type": "display_data"
    }
   ],
   "source": [
    "from utils import show_output\n",
    "\n",
    "essay_prompt = \"Should social media platforms be regulated by the government?\"\n",
    "\n",
    "show_output(\"Step 1 – Draft\", draft, background=\"#fff8dc\", text_color=\"#333333\")\n",
    "show_output(\"Step 2 – Reflection\", feedback, background=\"#e0f7fa\", text_color=\"#222222\")\n",
    "show_output(\"Step 3 – Revision\", revised, background=\"#f3e5f5\", text_color=\"#222222\")"
   ]
  },
  {
   "cell_type": "markdown",
   "id": "367973f7",
   "metadata": {},
   "source": [
    "## Check grading feedback\n",
    "\n",
    "If you have collapsed the right panel to have more screen space for your code, as shown below:\n",
    "\n",
    "<img src=\"./images/collapsed.png\" alt=\"Collapsed Image\" width=\"800\" height=\"400\"/>\n",
    "\n",
    "You can click on the left-facing arrow button (highlighted in red) to view feedback for your submission after submitting it for grading. Once expanded, it should display like this:\n",
    "\n",
    "<img src=\"./images/expanded.png\" alt=\"Expanded Image\" width=\"800\" height=\"400\"/>"
   ]
  }
 ],
 "metadata": {
  "grader_version": "1",
  "kernelspec": {
   "display_name": "Python 3 (ipykernel)",
   "language": "python",
   "name": "python3"
  },
  "language_info": {
   "codemirror_mode": {
    "name": "ipython",
    "version": 3
   },
   "file_extension": ".py",
   "mimetype": "text/x-python",
   "name": "python",
   "nbconvert_exporter": "python",
   "pygments_lexer": "ipython3",
   "version": "3.11.9"
  }
 },
 "nbformat": 4,
 "nbformat_minor": 5
}
