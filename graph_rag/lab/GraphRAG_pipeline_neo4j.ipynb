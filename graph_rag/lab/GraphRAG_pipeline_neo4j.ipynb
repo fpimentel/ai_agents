{
 "cells": [
  {
   "cell_type": "markdown",
   "id": "22628ec1",
   "metadata": {},
   "source": [
    "# 04_01: Creating a GraphRAG pipeline with LangChain to query your data"
   ]
  },
  {
   "cell_type": "code",
   "execution_count": null,
   "id": "698f4a7c",
   "metadata": {},
   "outputs": [],
   "source": [
    "import os\n",
    "from dotenv import load_dotenv\n",
    "\n",
    "from langchain.prompts import PromptTemplate\n",
    "from langchain_experimental.graph_transformers import LLMGraphTransformer\n",
    "from langchain_neo4j import GraphCypherQAChain, Neo4jGraph\n",
    "from langchain_openai import ChatOpenAI"
   ]
  },
  {
   "cell_type": "code",
   "execution_count": null,
   "id": "5b8f461c",
   "metadata": {},
   "outputs": [],
   "source": [
    "load_dotenv(dotenv_path='../.env')\n",
    "\n",
    "URI = os.getenv(\"NEO4J_URI\")\n",
    "USER = os.getenv(\"NEO4J_USER\")\n",
    "PWD = os.getenv(\"NEO4J_PWD\")\n",
    "OPENAI_API_KEY = os.getenv(\"OPENAI_API_KEY\")\n",
    "\n",
    "llm = ChatOpenAI(openai_api_key=OPENAI_API_KEY, temperature=0, model_name=\"gpt-4o\")\n",
    "llm_transformer = LLMGraphTransformer(llm=llm)\n",
    "graph = Neo4jGraph(url=URI, username=USER, password=PWD)"
   ]
  },
  {
   "cell_type": "code",
   "execution_count": null,
   "id": "8d21e0ac",
   "metadata": {},
   "outputs": [],
   "source": [
    "graph.query('MATCH (n) RETURN COUNT(n) as TOTAL')"
   ]
  },
  {
   "cell_type": "code",
   "execution_count": null,
   "id": "6b7c8ea2",
   "metadata": {},
   "outputs": [],
   "source": [
    "CYPHER_GENERATION_TEMPLATE = \"\"\"\n",
    "You are an expert Neo4j Developer translating user questions into Cypher to\n",
    "answer questions about skiing.\n",
    "Convert the user's question based on the schema.\n",
    "When you are presented with query properties such as id's like \"grass skiing\",\n",
    "be sure to convert the first letter to capital case, such as \"Grass Skiing\"\n",
    "before you run the Cypher query.\n",
    "\n",
    "Schema: {schema}\n",
    "Question: {question}\n",
    "\"\"\"\n",
    "\n",
    "cypher_generation_prompt = PromptTemplate(\n",
    "    template=CYPHER_GENERATION_TEMPLATE,\n",
    "    input_variables=[\"schema\", \"question\"],\n",
    ")\n",
    "\n",
    "cypher_chain = GraphCypherQAChain.from_llm(\n",
    "    llm,\n",
    "    graph=graph,\n",
    "    cypher_prompt=cypher_generation_prompt,\n",
    "    verbose=True,\n",
    "    allow_dangerous_requests=True\n",
    ")"
   ]
  },
  {
   "cell_type": "code",
   "execution_count": null,
   "id": "d5258697",
   "metadata": {},
   "outputs": [],
   "source": [
    "query_string = \"\"\"\n",
    "    Is the activity of cross-country skiing\n",
    "    associated with the equipment of ski lifts?\n",
    "\"\"\"\n",
    "\n",
    "cypher_chain.invoke({\"query\": query_string})"
   ]
  },
  {
   "cell_type": "code",
   "execution_count": 28,
   "id": "aa6dc4cc",
   "metadata": {},
   "outputs": [
    {
     "name": "stdout",
     "output_type": "stream",
     "text": [
      "\n",
      "\n",
      "\u001b[1m> Entering new GraphCypherQAChain chain...\u001b[0m\n"
     ]
    },
    {
     "name": "stderr",
     "output_type": "stream",
     "text": [
      "Received notification from DBMS server: {severity: WARNING} {code: Neo.ClientNotification.Statement.FeatureDeprecationWarning} {category: DEPRECATION} {title: This feature is deprecated and will be removed in future versions.} {description: The semantics of using colon in the separation of alternative relationship types will change in a future version. (Please use ':PRACTICED_IN|USES|ASSOCIATED_WITH|REQUIRES|INCLUDES|SIMILAR_TO|EVOLVED_INTO|PART_OF|FORM_OF|COMPONENT|HAS_CONCEPT|HAS_LIST|HAS_TYPE|HAS_ORGANIZATION|BRANCHED_FROM|ALSO_KNOWN_AS|PRACTICED_AT|HELD_AT|PRACTICED_BY|AS_OF|PREDOMINANT_REGION|BIRTH|NAMED_AFTER|WITHOUT_USE_OF|USED_AS|PRACTICED_AS|NOT_ASSOCIATED_WITH|INVOLVES|PIONEER|OPTIONAL_EQUIPMENT|IS_A_VARIANT_OF|POPULAR_IN|RECOGNIZED_BY|EVOLVED_FROM|ADMINISTERED_BY|USED_FOR_TRANSPORT|POPULAR_LOCATION|LOCATED_IN|ORIGIN' instead)} {position: line: 2, column: 541, offset: 547} for query: 'cypher\\nMATCH (a:Activity {id: \"Ski Touring\"})-[:PRACTICED_IN|:USES|:ASSOCIATED_WITH|:REQUIRES|:INCLUDES|:SIMILAR_TO|:EVOLVED_INTO|:PART_OF|:FORM_OF|:COMPONENT|:HAS_CONCEPT|:HAS_LIST|:HAS_TYPE|:HAS_ORGANIZATION|:BRANCHED_FROM|:ALSO_KNOWN_AS|:PRACTICED_AT|:HELD_AT|:PRACTICED_BY|:AS_OF|:PREDOMINANT_REGION|:BIRTH|:NAMED_AFTER|:WITHOUT_USE_OF|:USED_AS|:PRACTICED_AS|:NOT_ASSOCIATED_WITH|:INVOLVES|:PIONEER|:OPTIONAL_EQUIPMENT|:IS_A_VARIANT_OF|:POPULAR_IN|:RECOGNIZED_BY|:EVOLVED_FROM|:ADMINISTERED_BY|:USED_FOR_TRANSPORT|:POPULAR_LOCATION|:LOCATED_IN|:ORIGIN]->(related)\\nRETURN a, related\\n'\n"
     ]
    },
    {
     "name": "stdout",
     "output_type": "stream",
     "text": [
      "Generated Cypher:\n",
      "\u001b[32;1m\u001b[1;3mcypher\n",
      "MATCH (a:Activity {id: \"Ski Touring\"})-[:PRACTICED_IN|:USES|:ASSOCIATED_WITH|:REQUIRES|:INCLUDES|:SIMILAR_TO|:EVOLVED_INTO|:PART_OF|:FORM_OF|:COMPONENT|:HAS_CONCEPT|:HAS_LIST|:HAS_TYPE|:HAS_ORGANIZATION|:BRANCHED_FROM|:ALSO_KNOWN_AS|:PRACTICED_AT|:HELD_AT|:PRACTICED_BY|:AS_OF|:PREDOMINANT_REGION|:BIRTH|:NAMED_AFTER|:WITHOUT_USE_OF|:USED_AS|:PRACTICED_AS|:NOT_ASSOCIATED_WITH|:INVOLVES|:PIONEER|:OPTIONAL_EQUIPMENT|:IS_A_VARIANT_OF|:POPULAR_IN|:RECOGNIZED_BY|:EVOLVED_FROM|:ADMINISTERED_BY|:USED_FOR_TRANSPORT|:POPULAR_LOCATION|:LOCATED_IN|:ORIGIN]->(related)\n",
      "RETURN a, related\n",
      "\u001b[0m\n",
      "Full Context:\n",
      "\u001b[32;1m\u001b[1;3m[{'a': {'id': 'Ski Touring'}, 'related': {'id': 'Alpine Skiing Equipment'}}, {'a': {'id': 'Ski Touring'}, 'related': {'id': 'Nordic Ski Touring Equipment'}}, {'a': {'id': 'Ski Touring'}, 'related': {'id': 'Telemark Skiing Equipment'}}, {'a': {'id': 'Ski Touring'}, 'related': {'id': 'Alpine Touring Equipment'}}, {'a': {'id': 'Ski Touring'}, 'related': {'id': 'John \"Snowshoe\" Thompson'}}, {'a': {'id': 'Ski Touring'}, 'related': {'id': 'Cecil Slingsby'}}, {'a': {'id': 'Ski Touring'}, 'related': {'id': 'Adolfo Kind'}}, {'a': {'id': 'Ski Touring'}, 'related': {'id': 'Arnold Lunn'}}, {'a': {'id': 'Ski Touring'}, 'related': {'id': 'Ottorino Mezzalama'}}, {'a': {'id': 'Ski Touring'}, 'related': {'id': 'Patrick Vallençant'}}]\u001b[0m\n",
      "\n",
      "\u001b[1m> Finished chain.\u001b[0m\n"
     ]
    },
    {
     "data": {
      "text/plain": [
       "{'query': 'Tell me about ski touring.',\n",
       " 'result': 'Ski touring is related to Alpine Skiing Equipment, Nordic Ski Touring Equipment, Telemark Skiing Equipment, and Alpine Touring Equipment. Notable individuals associated with ski touring include John \"Snowshoe\" Thompson, Cecil Slingsby, Adolfo Kind, Arnold Lunn, Ottorino Mezzalama, and Patrick Vallençant.'}"
      ]
     },
     "execution_count": 28,
     "metadata": {},
     "output_type": "execute_result"
    }
   ],
   "source": [
    "cypher_chain.invoke({\"query\": \"Tell me about ski touring.\"})"
   ]
  }
 ],
 "metadata": {
  "kernelspec": {
   "display_name": "Python 3",
   "language": "python",
   "name": "python3"
  },
  "language_info": {
   "codemirror_mode": {
    "name": "ipython",
    "version": 3
   },
   "file_extension": ".py",
   "mimetype": "text/x-python",
   "name": "python",
   "nbconvert_exporter": "python",
   "pygments_lexer": "ipython3",
   "version": "3.12.1"
  }
 },
 "nbformat": 4,
 "nbformat_minor": 5
}
